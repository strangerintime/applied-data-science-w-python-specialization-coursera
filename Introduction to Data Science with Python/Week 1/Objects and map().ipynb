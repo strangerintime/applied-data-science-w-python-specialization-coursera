{
 "cells": [
  {
   "cell_type": "code",
   "execution_count": 2,
   "id": "35be25d6",
   "metadata": {},
   "outputs": [],
   "source": [
    "class Person:\n",
    "    department = 'School of information'\n",
    "    \n",
    "    def set_name(self, new_name):\n",
    "        self.name = new_name\n",
    "    def set_location(self, new_location):\n",
    "        self.location = new_location"
   ]
  },
  {
   "cell_type": "markdown",
   "id": "bcc563cc",
   "metadata": {},
   "source": [
    "The way this above object works:\\\n",
    "Person.set_name(Whatever) would make Person.name = Whatever"
   ]
  },
  {
   "cell_type": "code",
   "execution_count": 4,
   "id": "52119eef",
   "metadata": {},
   "outputs": [
    {
     "name": "stdout",
     "output_type": "stream",
     "text": [
      "Christopher Brooks live in Ann Arbor, MI, USA and works in the department School of information\n"
     ]
    }
   ],
   "source": [
    "person = Person()\n",
    "person.set_name('Christopher Brooks')\n",
    "person.set_location('Ann Arbor, MI, USA')\n",
    "print('{} live in {} and works in the department {}'.format(person.name, person.location, person.department))"
   ]
  },
  {
   "cell_type": "markdown",
   "id": "f8cb909b",
   "metadata": {},
   "source": [
    "map(_function, iterable,...._)\\\n",
    "This returns an iterator that applies function to all the items of iterable, yielding the results."
   ]
  },
  {
   "cell_type": "code",
   "execution_count": 6,
   "id": "02a86285",
   "metadata": {},
   "outputs": [
    {
     "data": {
      "text/plain": [
       "<map at 0x211d21afca0>"
      ]
     },
     "execution_count": 6,
     "metadata": {},
     "output_type": "execute_result"
    }
   ],
   "source": [
    "store1 = [10.0, 11.0, 12.23, 2.34]\n",
    "store2 = [9.0, 11.0, 12.23, 2.01]\n",
    "map(min, store1, store2)"
   ]
  },
  {
   "cell_type": "markdown",
   "id": "c8dcbc62",
   "metadata": {},
   "source": [
    "Instead of applying min to the two lists, the map function returns the map data type that contains the operation, and when invokes will execute it, thus saving on memory"
   ]
  },
  {
   "cell_type": "code",
   "execution_count": null,
   "id": "53127483",
   "metadata": {},
   "outputs": [],
   "source": []
  }
 ],
 "metadata": {
  "kernelspec": {
   "display_name": "Python 3",
   "language": "python",
   "name": "python3"
  },
  "language_info": {
   "codemirror_mode": {
    "name": "ipython",
    "version": 3
   },
   "file_extension": ".py",
   "mimetype": "text/x-python",
   "name": "python",
   "nbconvert_exporter": "python",
   "pygments_lexer": "ipython3",
   "version": "3.8.8"
  }
 },
 "nbformat": 4,
 "nbformat_minor": 5
}
