{
 "cells": [
  {
   "cell_type": "code",
   "execution_count": 1,
   "id": "2de0483e",
   "metadata": {},
   "outputs": [],
   "source": [
    "# first we will import re module\n",
    "import re"
   ]
  },
  {
   "cell_type": "code",
   "execution_count": 3,
   "id": "acf31c6c",
   "metadata": {},
   "outputs": [
    {
     "name": "stdout",
     "output_type": "stream",
     "text": [
      "Wonderful\n"
     ]
    }
   ],
   "source": [
    "# match() checks for A MATCH AT THE BEGINNING and returns a boolean\n",
    "# search() checks for a MATCH ANYWHERE and returns a boolean\n",
    "\n",
    "text = \"This is a good day\"\n",
    "\n",
    "if re.search(\"good\", text):  # first parameter is the pattern\n",
    "    print(\"Wonderful\")\n",
    "else:\n",
    "    print(\"Alas!\")\n",
    "       "
   ]
  },
  {
   "cell_type": "code",
   "execution_count": 4,
   "id": "7e897968",
   "metadata": {},
   "outputs": [
    {
     "data": {
      "text/plain": [
       "['',\n",
       " ' works diligently. ',\n",
       " ' gets good grades. Our student ',\n",
       " ' is successful']"
      ]
     },
     "execution_count": 4,
     "metadata": {},
     "output_type": "execute_result"
    }
   ],
   "source": [
    "# Tokenizing: Splitting the string into substring based on patterns [It is a core part of NLP]\n",
    "# findall() and split() parses thru strings and returns chunks\n",
    "text = \"Amy works diligently. Amy gets good grades. Our student Amy is successful\"\n",
    "# let's split this on all instances of Amy\n",
    "re.split(\"Amy\", text)"
   ]
  },
  {
   "cell_type": "code",
   "execution_count": 5,
   "id": "277caf2a",
   "metadata": {},
   "outputs": [
    {
     "data": {
      "text/plain": [
       "['Amy', 'Amy', 'Amy']"
      ]
     },
     "execution_count": 5,
     "metadata": {},
     "output_type": "execute_result"
    }
   ],
   "source": [
    "# If we want to count how many times Amy appears in the string, we use findall()\n",
    "re.findall(\"Amy\", text)"
   ]
  },
  {
   "cell_type": "code",
   "execution_count": 6,
   "id": "1a9c1be4",
   "metadata": {},
   "outputs": [
    {
     "data": {
      "text/plain": [
       "<re.Match object; span=(0, 3), match='Amy'>"
      ]
     },
     "execution_count": 6,
     "metadata": {},
     "output_type": "execute_result"
    }
   ],
   "source": [
    "# Anchors: Anchors specify start and/or end of the string that you are trying to match. ^ means start and $ means end.\n",
    "\n",
    "text = \"Amy works diligently. Amy gets good grades. Our student Amy is successful\"\n",
    "\n",
    "# Lets see if this begins with Amy\n",
    "re.search(\"^Amy\", text)"
   ]
  },
  {
   "cell_type": "code",
   "execution_count": 7,
   "id": "eb88049c",
   "metadata": {},
   "outputs": [],
   "source": [
    "# this returns a new object, called re.Match object. An re.Match object always has a boolean value of True. So you can always\n",
    "# evaluate it in an if statement as we did earlier."
   ]
  },
  {
   "cell_type": "markdown",
   "id": "f4216486",
   "metadata": {},
   "source": [
    "# Patterns and Character classes"
   ]
  },
  {
   "cell_type": "code",
   "execution_count": 8,
   "id": "a0d52331",
   "metadata": {},
   "outputs": [
    {
     "data": {
      "text/plain": [
       "['B', 'B', 'B']"
      ]
     },
     "execution_count": 8,
     "metadata": {},
     "output_type": "execute_result"
    }
   ],
   "source": [
    "grades = \"AAAAAAAAAAAAAACCCCCBBBAAAA\"\n",
    "re.findall(\"B\", grades)"
   ]
  },
  {
   "cell_type": "code",
   "execution_count": 9,
   "id": "7f0a8cff",
   "metadata": {},
   "outputs": [
    {
     "data": {
      "text/plain": [
       "['A',\n",
       " 'A',\n",
       " 'A',\n",
       " 'A',\n",
       " 'A',\n",
       " 'A',\n",
       " 'A',\n",
       " 'A',\n",
       " 'A',\n",
       " 'A',\n",
       " 'A',\n",
       " 'A',\n",
       " 'A',\n",
       " 'A',\n",
       " 'B',\n",
       " 'B',\n",
       " 'B',\n",
       " 'A',\n",
       " 'A',\n",
       " 'A',\n",
       " 'A']"
      ]
     },
     "execution_count": 9,
     "metadata": {},
     "output_type": "execute_result"
    }
   ],
   "source": [
    "# If we want to count the number of A's or B's, we use [AB] as pattern, not AB, because AB means A's followed by B only\n",
    "re.findall(\"[AB]\", grades)"
   ]
  },
  {
   "cell_type": "code",
   "execution_count": 13,
   "id": "20fa68c3",
   "metadata": {},
   "outputs": [
    {
     "data": {
      "text/plain": [
       "['AC']"
      ]
     },
     "execution_count": 13,
     "metadata": {},
     "output_type": "execute_result"
    }
   ],
   "source": [
    "# This is called set operator, you can also use a range of characters. Lowercase pattern: [a-z], Uppercase pattern: [A-Z]\n",
    "re.findall(\"[A][BC]\",grades)"
   ]
  },
  {
   "cell_type": "code",
   "execution_count": 14,
   "id": "ae667f91",
   "metadata": {},
   "outputs": [
    {
     "data": {
      "text/plain": [
       "['AC']"
      ]
     },
     "execution_count": 14,
     "metadata": {},
     "output_type": "execute_result"
    }
   ],
   "source": [
    "# | signifies or\n",
    "re. findall(\"AB|AC\", grades)"
   ]
  },
  {
   "cell_type": "code",
   "execution_count": 15,
   "id": "7f5dbb22",
   "metadata": {},
   "outputs": [
    {
     "data": {
      "text/plain": [
       "['C', 'C', 'C', 'C', 'C', 'B', 'B', 'B']"
      ]
     },
     "execution_count": 15,
     "metadata": {},
     "output_type": "execute_result"
    }
   ],
   "source": [
    "# ^ can be used as NOT operator\n",
    "re.findall(\"[^A]\", grades)"
   ]
  },
  {
   "cell_type": "code",
   "execution_count": 16,
   "id": "0ed0582e",
   "metadata": {},
   "outputs": [
    {
     "data": {
      "text/plain": [
       "[]"
      ]
     },
     "execution_count": 16,
     "metadata": {},
     "output_type": "execute_result"
    }
   ],
   "source": [
    "# Inside a set operator , i.e., [], caret means not\n",
    "re.findall(\"^[^A]\", grades)  # find all strings that start with not A"
   ]
  },
  {
   "cell_type": "code",
   "execution_count": 17,
   "id": "5a38ee50",
   "metadata": {},
   "outputs": [],
   "source": [
    "# This is an empty list because in our string, it only starts with A"
   ]
  },
  {
   "cell_type": "markdown",
   "id": "f3561041",
   "metadata": {},
   "source": [
    "# Quantifiers"
   ]
  },
  {
   "cell_type": "code",
   "execution_count": 18,
   "id": "b130e868",
   "metadata": {},
   "outputs": [],
   "source": [
    "# Quantifiers are the number of times you want a pattern to be matched for it to count as a match. \n",
    "# The most basic quantifier is e{m,n}, where e is what we are matching, m is the minimum number of matches, n is the maximum"
   ]
  },
  {
   "cell_type": "code",
   "execution_count": 20,
   "id": "9692c6ea",
   "metadata": {},
   "outputs": [
    {
     "data": {
      "text/plain": [
       "['AAAAAAAAAAAAAA', 'AAAA']"
      ]
     },
     "execution_count": 20,
     "metadata": {},
     "output_type": "execute_result"
    }
   ],
   "source": [
    "re.findall(\"A{2,100}\", grades)  # finds the times when the student has between 2 to 100 back-to-back A's"
   ]
  },
  {
   "cell_type": "code",
   "execution_count": 21,
   "id": "1ba82ed4",
   "metadata": {},
   "outputs": [
    {
     "data": {
      "text/plain": [
       "['AA', 'AA', 'AA', 'AA', 'AA', 'AA', 'AA', 'AA', 'AA']"
      ]
     },
     "execution_count": 21,
     "metadata": {},
     "output_type": "execute_result"
    }
   ],
   "source": [
    "re.findall(\"A{2,2}\", grades)"
   ]
  },
  {
   "cell_type": "code",
   "execution_count": 22,
   "id": "87e4680f",
   "metadata": {},
   "outputs": [
    {
     "data": {
      "text/plain": [
       "['AA', 'AA', 'AA', 'AA', 'AA', 'AA', 'AA', 'AA', 'AA']"
      ]
     },
     "execution_count": 22,
     "metadata": {},
     "output_type": "execute_result"
    }
   ],
   "source": [
    "# if you do e{m, n} instead of e{m,n}, then it will return an empty list\n",
    "# if you dont put a quantifier, the default is {1,1}\n",
    "re.findall(\"AA\", grades)"
   ]
  },
  {
   "cell_type": "code",
   "execution_count": 23,
   "id": "2e4623c0",
   "metadata": {},
   "outputs": [
    {
     "data": {
      "text/plain": [
       "['AA', 'AA', 'AA', 'AA', 'AA', 'AA', 'AA', 'AA', 'AA']"
      ]
     },
     "execution_count": 23,
     "metadata": {},
     "output_type": "execute_result"
    }
   ],
   "source": [
    "# one argument as quantifier means it is both m and n\n",
    "re.findall(\"A{2}\", grades)"
   ]
  },
  {
   "cell_type": "code",
   "execution_count": 24,
   "id": "28170f50",
   "metadata": {},
   "outputs": [],
   "source": [
    "# Using this we can find a decreasing trend in student's grades"
   ]
  },
  {
   "cell_type": "code",
   "execution_count": 26,
   "id": "39041675",
   "metadata": {},
   "outputs": [
    {
     "data": {
      "text/plain": [
       "[]"
      ]
     },
     "execution_count": 26,
     "metadata": {},
     "output_type": "execute_result"
    }
   ],
   "source": [
    "re.findall(\"A{1,100}B{1,100}C{1,100}\",grades)"
   ]
  },
  {
   "cell_type": "code",
   "execution_count": 27,
   "id": "50b8152a",
   "metadata": {},
   "outputs": [
    {
     "data": {
      "text/plain": [
       "'Overview[edit]\\nFERPA gives parents access to their child\\'s education records, an opportunity to seek to have the records amended, and some control over the disclosure of information from the records. With several exceptions, schools must have a student\\'s consent prior to the disclosure of education records after that student is 18 years old. The law applies only to educational agencies and institutions that receive funds under a program administered by the U.S. Department of Education.\\n\\nOther regulations under this act, effective starting January 3, 2012, allow for greater disclosures of personal and directory student identifying information and regulate student IDs and e-mail addresses.[2] For example, schools may provide external companies with a student\\'s personally identifiable information without the student\\'s consent.[2]\\n\\nExamples of situations affected by FERPA include school employees divulging information to anyone other than the student about the student\\'s grades or behavior, and school work posted on a bulletin board with a grade. Generally, schools must have written permission from the parent or eligible student in order to release any information from a student\\'s education record.\\n\\nThis privacy policy also governs how state agencies transmit testing data to federal agencies, such as the Education Data Exchange Network.\\n\\nThis U.S. federal law also gave students 18 years of age or older, or students of any age if enrolled in any post-secondary educational institution, the right of privacy regarding grades, enrollment, and even billing information unless the school has specific permission from the student to share that specific type of information.\\n\\nFERPA also permits a school to disclose personally identifiable information from education records of an \"eligible student\" (a student age 18 or older or enrolled in a postsecondary institution at any age) to his or her parents if the student is a \"dependent student\" as that term is defined in Section 152 of the Internal Revenue Code. Generally, if either parent has claimed the student as a dependent on the parent\\'s most recent income tax statement, the school may non-consensually disclose the student\\'s education records to both parents.[3]\\n\\nThe law allowed students who apply to an educational institution such as graduate school permission to view recommendations submitted by others as part of the application. However, on standard application forms, students are given the option to waive this right.\\n\\nFERPA specifically excludes employees of an educational institution if they are not students.\\n\\nThe act is also referred to as the Buckley Amendment, for one of its proponents, Senator James L. Buckley of New York.\\n\\nAccess to public records[edit]\\nThe citing of FERPA to conceal public records that are not \"educational\" in nature has been widely criticized, including by the act\\'s primary Senate sponsor.[4] For example, in the Owasso Independent School District v. Falvo case, an important part of the debate was determining the relationship between peer-grading and \"education records\" as defined in FERPA. In the Court of Appeals, it was ruled that students placing grades on the work of other students made such work into an \"education record.\" Thus, peer-grading was determined as a violation of FERPA privacy policies because students had access to other students\\' academic performance without full consent.[5] However, when the case went to the Supreme Court, it was officially ruled that peer-grading was not a violation of FERPA. This is because a grade written on a student\\'s work does not become an \"education record\" until the teacher writes the final grade into a grade book.[6]\\n\\nStudent medical records[edit]\\nLegal experts have debated the issue of whether student medical records (for example records of therapy sessions with a therapist at an on-campus counseling center) might be released to the school administration under certain triggering events, such as when a student sued his college or university.[7][8]\\n\\nUsually, student medical treatment records will remain under the protection of FERPA, not the Health Insurance Portability and Accountability Act (HIPAA). This is due to the \"FERPA Exception\" written within HIPAA.[9]'"
      ]
     },
     "execution_count": 27,
     "metadata": {},
     "output_type": "execute_result"
    }
   ],
   "source": [
    "# shorthand quantifiers:\n",
    "# an asterisk * to match 0 or more times\n",
    "# question mark ? to match one or more times\n",
    "# plus sign + to match one or more times\n",
    "# let's look at a more complex example, and load some data scraped from wikipedia\n",
    "with open(\"ferpa.txt\",\"r\") as file:\n",
    "    # we'll read this in a variable called wiki\n",
    "    wiki = file.read()\n",
    "# let's print that variable out to the screen\n",
    "wiki"
   ]
  },
  {
   "cell_type": "code",
   "execution_count": 28,
   "id": "2eb07b1d",
   "metadata": {},
   "outputs": [
    {
     "data": {
      "text/plain": [
       "['Overview[edit]', 'records[edit]', 'records[edit]']"
      ]
     },
     "execution_count": 28,
     "metadata": {},
     "output_type": "execute_result"
    }
   ],
   "source": [
    "# Note that all headers say [edit] after it followed by newline character.\n",
    "# So for a list of all the headers, we can do so using findall()\n",
    "re.findall(\"[a-zA-Z]{1,1000}\\[edit\\]\", wiki)"
   ]
  },
  {
   "cell_type": "code",
   "execution_count": 29,
   "id": "2502479f",
   "metadata": {},
   "outputs": [
    {
     "data": {
      "text/plain": [
       "['Overview[edit]', 'records[edit]', 'records[edit]']"
      ]
     },
     "execution_count": 29,
     "metadata": {},
     "output_type": "execute_result"
    }
   ],
   "source": [
    "# we can use \\w match any letter, including digits and number\n",
    "re.findall(\"[\\w]{1,100}\\[edit\\]\", wiki)"
   ]
  },
  {
   "cell_type": "code",
   "execution_count": 31,
   "id": "d576f8c9",
   "metadata": {},
   "outputs": [
    {
     "data": {
      "text/plain": [
       "['Overview[edit]',\n",
       " 'Access to public records[edit]',\n",
       " 'Student medical records[edit]']"
      ]
     },
     "execution_count": 31,
     "metadata": {},
     "output_type": "execute_result"
    }
   ],
   "source": [
    "# \\s matches all whitespace\n",
    "# * means 0 or more\n",
    "# you can also improve by adding a space after \\w, as [\\w ], this means it will look for all letter digits AND  spaces\n",
    "re.findall(\"[\\w ]*\\[edit\\]\",wiki)"
   ]
  },
  {
   "cell_type": "code",
   "execution_count": 34,
   "id": "620f04ac",
   "metadata": {},
   "outputs": [
    {
     "name": "stdout",
     "output_type": "stream",
     "text": [
      "Overview\n",
      "Access to public records\n",
      "Student medical records\n"
     ]
    }
   ],
   "source": [
    "for title in re.findall(\"[\\w ]*\\[edit\\]\",wiki):\n",
    "    # Now we will take the intermediate result, split on the square bracket [ just taking the first result\n",
    "    print(re.split(\"[\\[]\",title)[0])"
   ]
  },
  {
   "cell_type": "markdown",
   "id": "a50a119c",
   "metadata": {},
   "source": [
    "# Groups"
   ]
  },
  {
   "cell_type": "code",
   "execution_count": 37,
   "id": "eb1608e4",
   "metadata": {},
   "outputs": [
    {
     "data": {
      "text/plain": [
       "[('Overview', '[edit]'),\n",
       " ('Access to public records', '[edit]'),\n",
       " ('Student medical records', '[edit]')]"
      ]
     },
     "execution_count": 37,
     "metadata": {},
     "output_type": "execute_result"
    }
   ],
   "source": [
    "re.findall(\"([\\w ]*)(\\[edit\\])\",wiki)  \n",
    "# ([\\w ]*) means any words or letters followed by space any number of times\n",
    "# (\\[edit\\]) means the characters [edit]. \\ in the beginning of (\\[edit\\]) means it will match for [edit]. The last \\ inside []\n",
    "# denotes it is not a set"
   ]
  },
  {
   "cell_type": "code",
   "execution_count": 38,
   "id": "e91e042f",
   "metadata": {},
   "outputs": [
    {
     "name": "stdout",
     "output_type": "stream",
     "text": [
      "('Overview', '[edit]')\n",
      "('Access to public records', '[edit]')\n",
      "('Student medical records', '[edit]')\n"
     ]
    }
   ],
   "source": [
    "# findall() returns string, search() and match() returns match objects. If we want match objects as outputs, we use .finditer()\n",
    "for item in re.finditer(\"([\\w ]*)(\\[edit\\])\",wiki):\n",
    "    print(item.groups())\n",
    "    # groups for specific match item"
   ]
  },
  {
   "cell_type": "code",
   "execution_count": 40,
   "id": "f469f693",
   "metadata": {},
   "outputs": [
    {
     "name": "stdout",
     "output_type": "stream",
     "text": [
      "Overview\n",
      "Access to public records\n",
      "Student medical records\n"
     ]
    }
   ],
   "source": [
    "# groups() returns a tuple of the group, we can get individual group using group(number), where group(0) is thw whole match\n",
    "# and each other number is the portion of the match we are interested in\n",
    "for item in re.finditer(\"([\\w ]*)(\\[edit\\])\",wiki):\n",
    "    print(item.group(1))"
   ]
  },
  {
   "cell_type": "code",
   "execution_count": 45,
   "id": "723a15a4",
   "metadata": {},
   "outputs": [
    {
     "ename": "KeyError",
     "evalue": "'title'",
     "output_type": "error",
     "traceback": [
      "\u001b[1;31m---------------------------------------------------------------------------\u001b[0m",
      "\u001b[1;31mKeyError\u001b[0m                                  Traceback (most recent call last)",
      "\u001b[1;32m<ipython-input-45-f549657eb280>\u001b[0m in \u001b[0;36m<module>\u001b[1;34m\u001b[0m\n\u001b[0;32m      2\u001b[0m \u001b[1;31m# is the dictionary key we want to use wrapped in <>.\u001b[0m\u001b[1;33m\u001b[0m\u001b[1;33m\u001b[0m\u001b[1;33m\u001b[0m\u001b[0m\n\u001b[0;32m      3\u001b[0m \u001b[1;32mfor\u001b[0m \u001b[0mitems\u001b[0m \u001b[1;32min\u001b[0m \u001b[0mre\u001b[0m\u001b[1;33m.\u001b[0m\u001b[0mfinditer\u001b[0m\u001b[1;33m(\u001b[0m\u001b[1;34m\"(?P<title>[\\w ]*)(?P<edit_link>\\[edit\\])\"\u001b[0m\u001b[1;33m,\u001b[0m\u001b[0mwiki\u001b[0m\u001b[1;33m)\u001b[0m\u001b[1;33m:\u001b[0m\u001b[1;33m\u001b[0m\u001b[1;33m\u001b[0m\u001b[0m\n\u001b[1;32m----> 4\u001b[1;33m     \u001b[0mprint\u001b[0m\u001b[1;33m(\u001b[0m\u001b[0mitem\u001b[0m\u001b[1;33m.\u001b[0m\u001b[0mgroupdict\u001b[0m\u001b[1;33m(\u001b[0m\u001b[1;33m)\u001b[0m\u001b[1;33m[\u001b[0m\u001b[1;34m\"title\"\u001b[0m\u001b[1;33m]\u001b[0m\u001b[1;33m)\u001b[0m\u001b[1;33m\u001b[0m\u001b[1;33m\u001b[0m\u001b[0m\n\u001b[0m",
      "\u001b[1;31mKeyError\u001b[0m: 'title'"
     ]
    }
   ],
   "source": [
    "# for labeling groups, we use (?P<name>), where () means group, ?P means extension to basic regexes, and <name>\n",
    "# is the dictionary key we want to use wrapped in <>.\n",
    "for items in re.finditer(\"(?P<title>[\\w ]*)(?P<edit_link>\\[edit\\])\",wiki):\n",
    "    print(item.groupdict()[\"title\"])\n"
   ]
  },
  {
   "cell_type": "markdown",
   "id": "a2d86898",
   "metadata": {},
   "source": [
    "# Look-ahead and Look-behind"
   ]
  },
  {
   "cell_type": "code",
   "execution_count": 46,
   "id": "7bf3223c",
   "metadata": {},
   "outputs": [
    {
     "name": "stdout",
     "output_type": "stream",
     "text": [
      "<re.Match object; span=(0, 8), match='Overview'>\n",
      "<re.Match object; span=(2715, 2739), match='Access to public records'>\n",
      "<re.Match object; span=(3692, 3715), match='Student medical records'>\n"
     ]
    }
   ],
   "source": [
    "for item in re.finditer(\"(?P<title>[\\w ]+)(?=\\[edit\\])\",wiki):\n",
    "    print(item)"
   ]
  },
  {
   "cell_type": "code",
   "execution_count": 49,
   "id": "c199cc32",
   "metadata": {},
   "outputs": [
    {
     "ename": "UnicodeDecodeError",
     "evalue": "'charmap' codec can't decode byte 0x81 in position 1589: character maps to <undefined>",
     "output_type": "error",
     "traceback": [
      "\u001b[1;31m---------------------------------------------------------------------------\u001b[0m",
      "\u001b[1;31mUnicodeDecodeError\u001b[0m                        Traceback (most recent call last)",
      "\u001b[1;32m<ipython-input-49-7174e7e51740>\u001b[0m in \u001b[0;36m<module>\u001b[1;34m\u001b[0m\n\u001b[0;32m      1\u001b[0m \u001b[1;32mwith\u001b[0m \u001b[0mopen\u001b[0m\u001b[1;33m(\u001b[0m\u001b[1;34m\"buddhist.txt\"\u001b[0m\u001b[1;33m)\u001b[0m \u001b[1;32mas\u001b[0m \u001b[0mfile\u001b[0m\u001b[1;33m:\u001b[0m\u001b[1;33m\u001b[0m\u001b[1;33m\u001b[0m\u001b[0m\n\u001b[1;32m----> 2\u001b[1;33m     \u001b[0mwiki\u001b[0m \u001b[1;33m=\u001b[0m \u001b[0mfile\u001b[0m\u001b[1;33m.\u001b[0m\u001b[0mread\u001b[0m\u001b[1;33m(\u001b[0m\u001b[1;33m)\u001b[0m\u001b[1;33m\u001b[0m\u001b[1;33m\u001b[0m\u001b[0m\n\u001b[0m",
      "\u001b[1;32mF:\\User\\anaconda3\\lib\\encodings\\cp1252.py\u001b[0m in \u001b[0;36mdecode\u001b[1;34m(self, input, final)\u001b[0m\n\u001b[0;32m     21\u001b[0m \u001b[1;32mclass\u001b[0m \u001b[0mIncrementalDecoder\u001b[0m\u001b[1;33m(\u001b[0m\u001b[0mcodecs\u001b[0m\u001b[1;33m.\u001b[0m\u001b[0mIncrementalDecoder\u001b[0m\u001b[1;33m)\u001b[0m\u001b[1;33m:\u001b[0m\u001b[1;33m\u001b[0m\u001b[1;33m\u001b[0m\u001b[0m\n\u001b[0;32m     22\u001b[0m     \u001b[1;32mdef\u001b[0m \u001b[0mdecode\u001b[0m\u001b[1;33m(\u001b[0m\u001b[0mself\u001b[0m\u001b[1;33m,\u001b[0m \u001b[0minput\u001b[0m\u001b[1;33m,\u001b[0m \u001b[0mfinal\u001b[0m\u001b[1;33m=\u001b[0m\u001b[1;32mFalse\u001b[0m\u001b[1;33m)\u001b[0m\u001b[1;33m:\u001b[0m\u001b[1;33m\u001b[0m\u001b[1;33m\u001b[0m\u001b[0m\n\u001b[1;32m---> 23\u001b[1;33m         \u001b[1;32mreturn\u001b[0m \u001b[0mcodecs\u001b[0m\u001b[1;33m.\u001b[0m\u001b[0mcharmap_decode\u001b[0m\u001b[1;33m(\u001b[0m\u001b[0minput\u001b[0m\u001b[1;33m,\u001b[0m\u001b[0mself\u001b[0m\u001b[1;33m.\u001b[0m\u001b[0merrors\u001b[0m\u001b[1;33m,\u001b[0m\u001b[0mdecoding_table\u001b[0m\u001b[1;33m)\u001b[0m\u001b[1;33m[\u001b[0m\u001b[1;36m0\u001b[0m\u001b[1;33m]\u001b[0m\u001b[1;33m\u001b[0m\u001b[1;33m\u001b[0m\u001b[0m\n\u001b[0m\u001b[0;32m     24\u001b[0m \u001b[1;33m\u001b[0m\u001b[0m\n\u001b[0;32m     25\u001b[0m \u001b[1;32mclass\u001b[0m \u001b[0mStreamWriter\u001b[0m\u001b[1;33m(\u001b[0m\u001b[0mCodec\u001b[0m\u001b[1;33m,\u001b[0m\u001b[0mcodecs\u001b[0m\u001b[1;33m.\u001b[0m\u001b[0mStreamWriter\u001b[0m\u001b[1;33m)\u001b[0m\u001b[1;33m:\u001b[0m\u001b[1;33m\u001b[0m\u001b[1;33m\u001b[0m\u001b[0m\n",
      "\u001b[1;31mUnicodeDecodeError\u001b[0m: 'charmap' codec can't decode byte 0x81 in position 1589: character maps to <undefined>"
     ]
    }
   ],
   "source": [
    "with open(\"buddhist.txt\") as file:\n",
    "    wiki = file.read()"
   ]
  },
  {
   "cell_type": "code",
   "execution_count": null,
   "id": "b8c8027c",
   "metadata": {},
   "outputs": [],
   "source": []
  }
 ],
 "metadata": {
  "kernelspec": {
   "display_name": "Python 3",
   "language": "python",
   "name": "python3"
  },
  "language_info": {
   "codemirror_mode": {
    "name": "ipython",
    "version": 3
   },
   "file_extension": ".py",
   "mimetype": "text/x-python",
   "name": "python",
   "nbconvert_exporter": "python",
   "pygments_lexer": "ipython3",
   "version": "3.8.8"
  }
 },
 "nbformat": 4,
 "nbformat_minor": 5
}
